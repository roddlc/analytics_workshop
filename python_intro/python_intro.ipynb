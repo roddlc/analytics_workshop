{
 "cells": [
  {
   "cell_type": "markdown",
   "metadata": {},
   "source": [
    "# Introduction to Programming with Python"
   ]
  },
  {
   "cell_type": "markdown",
   "metadata": {},
   "source": [
    "**Credit**: While drafting this Jupyter Notebook, I frequently referenced [\"Python Crash Course, 2nd Edition: A Hands-On, Project-Based Introduction to Programming\"](https://www.amazon.com/Python-Crash-Course-Eric-Matthes-ebook/dp/B07J4521M3/ref=sr_1_4?crid=3SUIIYFVA6N6Q&keywords=python+crash+course+python&qid=1569703647&s=digital-text&sprefix=python+crash+%2Cdigital-text%2C133&sr=1-4) by [Eric Matthes](https://ehmatthes.github.io/). This is an extremely well-written book that provides an excellent, and thorough, introduction to programming in Python that I definitely recommend if you want to carry on learning about the language."
   ]
  },
  {
   "cell_type": "markdown",
   "metadata": {},
   "source": [
    "### Sections\n",
    "- 0) The Zen of Python\n",
    "- 1) Variables & data types\n",
    "- 2) Lists\n",
    "- 3) Operating on lists with for loops\n",
    "- 4) If else statements\n",
    "- 5) Dictionaries\n",
    "- 6) Functions"
   ]
  },
  {
   "cell_type": "markdown",
   "metadata": {},
   "source": [
    "# Section 0: The Zen of Python\n",
    "\"Beautiful is better than ugly.\n",
    "Explicit is better than implicit.\n",
    "Simple is better than complex.\n",
    "Complex is better than complicated.\n",
    "Flat is better than nested.\n",
    "Sparse is better than dense.\n",
    "Readability counts.\n",
    "Special cases aren't special enough to break the rules.\n",
    "Although practicality beats purity.\n",
    "Errors should never pass silently.\n",
    "Unless explicitly silenced.\n",
    "In the face of ambiguity, refuse the temptation to guess.\n",
    "There should be one-- and preferably only one --obvious way to do it.\n",
    "Although that way may not be obvious at first unless you're Dutch.\n",
    "Now is better than never.\n",
    "Although never is often better than *right* now.\n",
    "If the implementation is hard to explain, it's a bad idea.\n",
    "If the implementation is easy to explain, it may be a good idea.\n",
    "Namespaces are one honking great idea -- let's do more of those!\"\n",
    "\\-[Tim Peters](https://github.com/python/peps/blob/master/pep-0020.txt)"
   ]
  },
  {
   "cell_type": "markdown",
   "metadata": {},
   "source": [
    "# Section 1: Variables & data types"
   ]
  },
  {
   "cell_type": "markdown",
   "metadata": {},
   "source": [
    "## 1.1 - Variables\n",
    "Variables are objects that allow you to store data. In some ways, as you skim the cells below, they may remind you of algebra (e.g., x = 2). In some cases, variables can contain something as simple as a number (like 2) or a name (like \"Rod\"). But you can also use variables to store a dataframe containing millions of rows and dozens of columns. They can even contain functions (to be discussed later in this notebook) that allow you to perform specific task on your data."
   ]
  },
  {
   "cell_type": "code",
   "execution_count": 1,
   "metadata": {
    "collapsed": false
   },
   "outputs": [
    {
     "data": {
      "text/plain": [
       "2"
      ]
     },
     "execution_count": 1,
     "metadata": {},
     "output_type": "execute_result"
    }
   ],
   "source": [
    "# assign an integer to a variable named x\n",
    "x = 2\n",
    "\n",
    "# display x below, thanks to the magic of ipython\n",
    "x"
   ]
  },
  {
   "cell_type": "code",
   "execution_count": 2,
   "metadata": {
    "collapsed": false
   },
   "outputs": [
    {
     "data": {
      "text/plain": [
       "5"
      ]
     },
     "execution_count": 2,
     "metadata": {},
     "output_type": "execute_result"
    }
   ],
   "source": [
    "# as in algebra, you can add one variable by another\n",
    "y = 3\n",
    "x + y"
   ]
  },
  {
   "cell_type": "code",
   "execution_count": 3,
   "metadata": {
    "collapsed": false
   },
   "outputs": [
    {
     "data": {
      "text/plain": [
       "6"
      ]
     },
     "execution_count": 3,
     "metadata": {},
     "output_type": "execute_result"
    }
   ],
   "source": [
    "# or multiply\n",
    "x * y"
   ]
  },
  {
   "cell_type": "code",
   "execution_count": 5,
   "metadata": {
    "collapsed": false
   },
   "outputs": [
    {
     "data": {
      "text/plain": [
       "8"
      ]
     },
     "execution_count": 5,
     "metadata": {},
     "output_type": "execute_result"
    }
   ],
   "source": [
    "# or take the power of (2^3)\n",
    "x ** y"
   ]
  },
  {
   "cell_type": "code",
   "execution_count": 6,
   "metadata": {
    "collapsed": false
   },
   "outputs": [
    {
     "data": {
      "text/plain": [
       "8"
      ]
     },
     "execution_count": 6,
     "metadata": {},
     "output_type": "execute_result"
    }
   ],
   "source": [
    "# you can also assign the output of any of the above operations to a variable\n",
    "z = x ** y\n",
    "z"
   ]
  },
  {
   "cell_type": "code",
   "execution_count": 2,
   "metadata": {
    "collapsed": false
   },
   "outputs": [
    {
     "data": {
      "text/plain": [
       "'Rod'"
      ]
     },
     "execution_count": 2,
     "metadata": {},
     "output_type": "execute_result"
    }
   ],
   "source": [
    "# assign my name to a variable\n",
    "my_name = \"Rod\"\n",
    "\n",
    "# display\n",
    "my_name"
   ]
  },
  {
   "cell_type": "code",
   "execution_count": 18,
   "metadata": {
    "collapsed": false
   },
   "outputs": [
    {
     "data": {
      "text/plain": [
       "'Hello! Hello! Hello! '"
      ]
     },
     "execution_count": 18,
     "metadata": {},
     "output_type": "execute_result"
    }
   ],
   "source": [
    "# you can also multiply a text variable to repeat it\n",
    "salutation = \"Hello! \" # note the whitespace after the exclamation point\n",
    "\n",
    "# repeat 3 times\n",
    "salutation * 3"
   ]
  },
  {
   "cell_type": "markdown",
   "metadata": {},
   "source": [
    "You can also use the \"+\" sign as a way to concatenate blocks of text together."
   ]
  },
  {
   "cell_type": "code",
   "execution_count": 3,
   "metadata": {
    "collapsed": false
   },
   "outputs": [
    {
     "data": {
      "text/plain": [
       "'My name is Rod. Nice to meet you!'"
      ]
     },
     "execution_count": 3,
     "metadata": {},
     "output_type": "execute_result"
    }
   ],
   "source": [
    "# create the beginning\n",
    "beginning = \"My name is \" # note the whitespace after \"is\"\n",
    "\n",
    "# add a few words at the end\n",
    "end = \". Nice to meet you!\"\n",
    "\n",
    "# and concatenate three string variables together\n",
    "beginning + my_name + end"
   ]
  },
  {
   "cell_type": "markdown",
   "metadata": {},
   "source": [
    "It's worth noting that you can use the print( ) function to output the above text, as well. This is helpful in case you want to print something specific within a cell, or if you are not working in an [IPython](https://ipython.readthedocs.io/en/stable/interactive/tutorial.html) environment, as you are now."
   ]
  },
  {
   "cell_type": "code",
   "execution_count": 11,
   "metadata": {
    "collapsed": false
   },
   "outputs": [
    {
     "name": "stdout",
     "output_type": "stream",
     "text": [
      "My name is Rod. Nice to meet you!\n"
     ]
    }
   ],
   "source": [
    "# print the result of concatenating three variables\n",
    "print(beginning + my_name + end)"
   ]
  },
  {
   "cell_type": "markdown",
   "metadata": {},
   "source": [
    "You don't have to use \"+\" signs to concatenate blocks of text together. You can also use commas with the print() function. However, look what happens when you use commas and you already have blank spaces in your text variables.."
   ]
  },
  {
   "cell_type": "code",
   "execution_count": 8,
   "metadata": {
    "collapsed": false
   },
   "outputs": [
    {
     "name": "stdout",
     "output_type": "stream",
     "text": [
      "My name is  Rod . Nice to meet you!\n",
      "\n",
      "\n",
      "My name is Rod. Nice to meet you!\n"
     ]
    }
   ],
   "source": [
    "# print using commas\n",
    "print(beginning, my_name, end) # notice the extra blank space included\n",
    "\n",
    "# print a blank line\n",
    "print(\"\\n\")\n",
    "\n",
    "# include sep = \"\" in the print function to remove the blank space the print function inserts at the end by default\n",
    "print(beginning, my_name, end, sep = \"\")"
   ]
  },
  {
   "cell_type": "markdown",
   "metadata": {},
   "source": [
    "You can also print text itself without assigning it to a variable. This might seem unimpressive, but in more advanced scenarios, a print statement could be helpful in letting you know how much progress something is taking. For example, if you're performing some kind of operation on tens of millions of rows, you can have python print every millionth row number (e.g., \"Completed row 5,000,000\") to keep you up to speed on progress."
   ]
  },
  {
   "cell_type": "code",
   "execution_count": 13,
   "metadata": {
    "collapsed": false
   },
   "outputs": [
    {
     "name": "stdout",
     "output_type": "stream",
     "text": [
      "Hello World!\n"
     ]
    }
   ],
   "source": [
    "# print \"Hello World!\"\n",
    "print(\"Hello World!\")"
   ]
  },
  {
   "cell_type": "code",
   "execution_count": 17,
   "metadata": {
    "collapsed": false
   },
   "outputs": [
    {
     "name": "stdout",
     "output_type": "stream",
     "text": [
      "6\n"
     ]
    }
   ],
   "source": [
    "# you can print the output of a numeric operation\n",
    "print(3*2)"
   ]
  },
  {
   "cell_type": "markdown",
   "metadata": {},
   "source": [
    "## 1.2 - Data types\n",
    "When I first started with Python, I did not fully appreciate how important data structures are. It might not be readily evident at first, but trust me when I say it is worth understanding the basic Python data structures up front. This sub-section will give a *very* cursory glance at Python's basic data structures, but I recommend [this section](https://www.datacamp.com/community/tutorials/data-structures-python#primitive) of a DataCamp article if you'd like to dive a little deeper on your own."
   ]
  },
  {
   "cell_type": "markdown",
   "metadata": {},
   "source": [
    "### Integer\n",
    "This data type is used to store a whole number. As shown above, you can perform all sorts of numeric operations on these (e.g., add, subtract, multiply, divide, take the power of)."
   ]
  },
  {
   "cell_type": "code",
   "execution_count": 12,
   "metadata": {
    "collapsed": false
   },
   "outputs": [
    {
     "data": {
      "text/plain": [
       "500"
      ]
     },
     "execution_count": 12,
     "metadata": {},
     "output_type": "execute_result"
    }
   ],
   "source": [
    "# assign some new integer variables\n",
    "a = 100\n",
    "b = 5\n",
    "\n",
    "# multiply them\n",
    "a * b"
   ]
  },
  {
   "cell_type": "code",
   "execution_count": 13,
   "metadata": {
    "collapsed": false
   },
   "outputs": [
    {
     "data": {
      "text/plain": [
       "10500"
      ]
     },
     "execution_count": 13,
     "metadata": {},
     "output_type": "execute_result"
    }
   ],
   "source": [
    "# you can apply order of operations (think PEMDAS)\n",
    "(a + b) * a"
   ]
  },
  {
   "cell_type": "markdown",
   "metadata": {},
   "source": [
    "If you're ever unsure what data structure you are dealing with, use Python's [type](https://docs.python.org/3/library/functions.html#type) function to check."
   ]
  },
  {
   "cell_type": "code",
   "execution_count": 21,
   "metadata": {
    "collapsed": false
   },
   "outputs": [
    {
     "data": {
      "text/plain": [
       "int"
      ]
     },
     "execution_count": 21,
     "metadata": {},
     "output_type": "execute_result"
    }
   ],
   "source": [
    "# confirm that a is an integer\n",
    "type(a)"
   ]
  },
  {
   "cell_type": "markdown",
   "metadata": {},
   "source": [
    "### Float\n",
    "While integers take care of whole numbers, floats are used for *any* real number, and they include decimals."
   ]
  },
  {
   "cell_type": "markdown",
   "metadata": {},
   "source": [
    "As an aside, this is an interesting article on Python floats: https://docs.python.org/3/tutorial/floatingpoint.html"
   ]
  },
  {
   "cell_type": "code",
   "execution_count": 22,
   "metadata": {
    "collapsed": false
   },
   "outputs": [
    {
     "data": {
      "text/plain": [
       "float"
      ]
     },
     "execution_count": 22,
     "metadata": {},
     "output_type": "execute_result"
    }
   ],
   "source": [
    "# confirm that 1.2 is a float\n",
    "type(1.2)"
   ]
  },
  {
   "cell_type": "code",
   "execution_count": 20,
   "metadata": {
    "collapsed": false
   },
   "outputs": [
    {
     "data": {
      "text/plain": [
       "float"
      ]
     },
     "execution_count": 20,
     "metadata": {},
     "output_type": "execute_result"
    }
   ],
   "source": [
    "# or even 1.0\n",
    "type(1.0)"
   ]
  },
  {
   "cell_type": "markdown",
   "metadata": {},
   "source": [
    "You can perform the same operations described above on floats"
   ]
  },
  {
   "cell_type": "code",
   "execution_count": 23,
   "metadata": {
    "collapsed": false
   },
   "outputs": [
    {
     "data": {
      "text/plain": [
       "6.6"
      ]
     },
     "execution_count": 23,
     "metadata": {},
     "output_type": "execute_result"
    }
   ],
   "source": [
    "# multiply two floats\n",
    "1.2 * 5.5"
   ]
  },
  {
   "cell_type": "code",
   "execution_count": 24,
   "metadata": {
    "collapsed": false
   },
   "outputs": [
    {
     "data": {
      "text/plain": [
       "6.421680729414928"
      ]
     },
     "execution_count": 24,
     "metadata": {},
     "output_type": "execute_result"
    }
   ],
   "source": [
    "# take the power of\n",
    "1.2 ** 10.2"
   ]
  },
  {
   "cell_type": "markdown",
   "metadata": {},
   "source": [
    "What happens if you multiply an integer by a float?"
   ]
  },
  {
   "cell_type": "code",
   "execution_count": 37,
   "metadata": {
    "collapsed": false
   },
   "outputs": [
    {
     "data": {
      "text/plain": [
       "3.0"
      ]
     },
     "execution_count": 37,
     "metadata": {},
     "output_type": "execute_result"
    }
   ],
   "source": [
    "# assign variables\n",
    "integer_num = 2\n",
    "float_num = 1.5\n",
    "\n",
    "# display result\n",
    "integer_num * float_num"
   ]
  },
  {
   "cell_type": "markdown",
   "metadata": {},
   "source": [
    "3 is a whole number, but the result of 2 times 1.5 is stored as a float"
   ]
  },
  {
   "cell_type": "code",
   "execution_count": 38,
   "metadata": {
    "collapsed": false
   },
   "outputs": [
    {
     "data": {
      "text/plain": [
       "float"
      ]
     },
     "execution_count": 38,
     "metadata": {},
     "output_type": "execute_result"
    }
   ],
   "source": [
    "# display type\n",
    "type(integer_num * float_num)"
   ]
  },
  {
   "cell_type": "markdown",
   "metadata": {},
   "source": [
    "### Strings\n",
    "So far, we've been talking about text, but when it comes to Python what we're really talking about is [strings](https://developers.google.com/edu/python/strings). This data types allows you to store words, letters, paragraphs, with no limit that I am aware of"
   ]
  },
  {
   "cell_type": "code",
   "execution_count": 25,
   "metadata": {
    "collapsed": false
   },
   "outputs": [
    {
     "data": {
      "text/plain": [
       "'Georgetown'"
      ]
     },
     "execution_count": 25,
     "metadata": {},
     "output_type": "execute_result"
    }
   ],
   "source": [
    "# a one-word string\n",
    "string1 = \"Georgetown\"\n",
    "\n",
    "# display string1\n",
    "string1"
   ]
  },
  {
   "cell_type": "code",
   "execution_count": 27,
   "metadata": {
    "collapsed": false
   },
   "outputs": [
    {
     "data": {
      "text/plain": [
       "str"
      ]
     },
     "execution_count": 27,
     "metadata": {},
     "output_type": "execute_result"
    }
   ],
   "source": [
    "# here is the result of using the type function\n",
    "type(string1)"
   ]
  },
  {
   "cell_type": "code",
   "execution_count": 14,
   "metadata": {
    "collapsed": false
   },
   "outputs": [
    {
     "name": "stdout",
     "output_type": "stream",
     "text": [
      "I wouldn't be surprised to hear 'Hoya Saxa' while taking a walk through Georgetown's campus.\n"
     ]
    }
   ],
   "source": [
    "# sentence\n",
    "string2 = \"I wouldn't be surprised to hear 'Hoya Saxa' while taking a walk through Georgetown's campus.\"\n",
    "\n",
    "# display\n",
    "print(string2)"
   ]
  },
  {
   "cell_type": "markdown",
   "metadata": {},
   "source": [
    "Here is a paragraph pulled from Georgetown's [website](https://www.georgetown.edu/about)."
   ]
  },
  {
   "cell_type": "code",
   "execution_count": 23,
   "metadata": {
    "collapsed": false
   },
   "outputs": [
    {
     "name": "stdout",
     "output_type": "stream",
     "text": [
      "Georgetown University is one of the world’s leading academic and research institutions, offering a unique educational experience that prepares the next generation of global citizens to lead and make a difference in the world. We are a vibrant community of exceptional students, faculty, alumni and professionals dedicated to real-world applications of our research, scholarship, faith and service.\n"
     ]
    }
   ],
   "source": [
    "# text copied from Georgetown website\n",
    "string3 = \"Georgetown University is one of the world’s leading academic and research institutions, \\\n",
    "offering a unique educational experience that prepares the next generation of global citizens to lead \\\n",
    "and make a difference in the world. We are a vibrant community of exceptional students, faculty, alumni \\\n",
    "and professionals dedicated to real-world applications of our research, scholarship, faith and service.\"\n",
    "\n",
    "# display\n",
    "print(string3)"
   ]
  },
  {
   "cell_type": "markdown",
   "metadata": {},
   "source": [
    "**Quick note on those back slashes (\\\\)**: For readability, I hit the enter key to place the entire text in a manner resembling a paragraph, rather than one long line. To be able to hit enter without causing an error, I used the back slash. This is because a backslash is an escape character that, in this case, ignores the fact that I hit the enter key and maintains the next line of text within the same line upon printing. For more information, reference Python's [Lexical Analysis](https://docs.python.org/3/reference/lexical_analysis.html#explicit-line-joining)."
   ]
  },
  {
   "cell_type": "markdown",
   "metadata": {},
   "source": [
    "By the way, numbers can be stored as strings, too."
   ]
  },
  {
   "cell_type": "code",
   "execution_count": 24,
   "metadata": {
    "collapsed": false
   },
   "outputs": [
    {
     "data": {
      "text/plain": [
       "'20057'"
      ]
     },
     "execution_count": 24,
     "metadata": {},
     "output_type": "execute_result"
    }
   ],
   "source": [
    "# assign a number to a string\n",
    "number_as_string = \"20057\"\n",
    "\n",
    "# display\n",
    "number_as_string"
   ]
  },
  {
   "cell_type": "code",
   "execution_count": 35,
   "metadata": {
    "collapsed": false
   },
   "outputs": [
    {
     "data": {
      "text/plain": [
       "str"
      ]
     },
     "execution_count": 35,
     "metadata": {},
     "output_type": "execute_result"
    }
   ],
   "source": [
    "# confirm using type\n",
    "type(number_as_string)"
   ]
  },
  {
   "cell_type": "markdown",
   "metadata": {},
   "source": [
    "### Booleans\n",
    "These refer TRUE or FALSE and is binary (think of it as a light switch; it is either one or the other)"
   ]
  },
  {
   "cell_type": "code",
   "execution_count": 41,
   "metadata": {
    "collapsed": false
   },
   "outputs": [
    {
     "data": {
      "text/plain": [
       "True"
      ]
     },
     "execution_count": 41,
     "metadata": {},
     "output_type": "execute_result"
    }
   ],
   "source": [
    "# you can quite literally assign True to a variable\n",
    "bool1 = True\n",
    "\n",
    "# display\n",
    "bool1"
   ]
  },
  {
   "cell_type": "code",
   "execution_count": 42,
   "metadata": {
    "collapsed": false
   },
   "outputs": [
    {
     "data": {
      "text/plain": [
       "False"
      ]
     },
     "execution_count": 42,
     "metadata": {},
     "output_type": "execute_result"
    }
   ],
   "source": [
    "# you can also present python with a logic test, resulting in a boolean\n",
    "1 > 2"
   ]
  },
  {
   "cell_type": "code",
   "execution_count": 43,
   "metadata": {
    "collapsed": false
   },
   "outputs": [
    {
     "data": {
      "text/plain": [
       "bool"
      ]
     },
     "execution_count": 43,
     "metadata": {},
     "output_type": "execute_result"
    }
   ],
   "source": [
    "# display the type\n",
    "type(1 > 2)"
   ]
  },
  {
   "cell_type": "markdown",
   "metadata": {},
   "source": [
    "One neat feature of booleans is that True is treated as a 1 and False is treated as a 0 if you perform a mathematical operation on them."
   ]
  },
  {
   "cell_type": "code",
   "execution_count": 44,
   "metadata": {
    "collapsed": false
   },
   "outputs": [
    {
     "data": {
      "text/plain": [
       "3"
      ]
     },
     "execution_count": 44,
     "metadata": {},
     "output_type": "execute_result"
    }
   ],
   "source": [
    "# add three Trues together\n",
    "True + True + True"
   ]
  },
  {
   "cell_type": "code",
   "execution_count": 15,
   "metadata": {
    "collapsed": false
   },
   "outputs": [
    {
     "data": {
      "text/plain": [
       "2"
      ]
     },
     "execution_count": 15,
     "metadata": {},
     "output_type": "execute_result"
    }
   ],
   "source": [
    "# mix in a False\n",
    "True + False + True"
   ]
  },
  {
   "cell_type": "code",
   "execution_count": 16,
   "metadata": {
    "collapsed": false
   },
   "outputs": [
    {
     "data": {
      "text/plain": [
       "0"
      ]
     },
     "execution_count": 16,
     "metadata": {},
     "output_type": "execute_result"
    }
   ],
   "source": [
    "# all False\n",
    "False + False + False"
   ]
  },
  {
   "cell_type": "markdown",
   "metadata": {},
   "source": [
    "The above can be very useful. For example, say you want to check how many values in your dataset are greater than 10. You can count them for yourself, or you can use Python's [sum](https://docs.python.org/3/library/functions.html#sum) function along with the *for* and *in* Python [keywords](https://docs.python.org/3/reference/lexical_analysis.html#keywords) to count in the script.\n",
    "\n",
    "Below, we will create a Python list (to be discussed more in the next section) of numbers and check how many are greater than 10."
   ]
  },
  {
   "cell_type": "code",
   "execution_count": 17,
   "metadata": {
    "collapsed": false
   },
   "outputs": [
    {
     "data": {
      "text/plain": [
       "6"
      ]
     },
     "execution_count": 17,
     "metadata": {},
     "output_type": "execute_result"
    }
   ],
   "source": [
    "# define your list\n",
    "list_of_numbers = [2, 20, 5, 6, 34, -89, 1000, 1, 3, 27, 19, 8, 1, 2, 0, -32, 52]\n",
    "\n",
    "# sum the number of times the logical test (x > 10) is True in the list above\n",
    "sum(number > 10 for number in list_of_numbers) \n",
    "\n",
    "# this for.. in.. syntax will make more sense in Section 3: Operating on lists with for loops"
   ]
  },
  {
   "cell_type": "markdown",
   "metadata": {},
   "source": [
    "### Bonus: [str](https://docs.python.org/3/library/functions.html#func-str) function\n",
    "As shown above, you can combine a bunch of string variables together with the plus sign, and you can (for example) multiply a float by an integer, but be mindful of mixing a string with an integer by mistake. There's a simple solution to this problem, but it provides a sense of the issues that can arise if you are not careful with the data types you're using."
   ]
  },
  {
   "cell_type": "code",
   "execution_count": 25,
   "metadata": {
    "collapsed": false
   },
   "outputs": [
    {
     "name": "stdout",
     "output_type": "stream",
     "text": [
      "Georgetown's zip code is 20057\n"
     ]
    }
   ],
   "source": [
    "# this works\n",
    "print(\"Georgetown's zip code is \" + number_as_string)"
   ]
  },
  {
   "cell_type": "markdown",
   "metadata": {},
   "source": [
    "The code below does not work and will result in an error."
   ]
  },
  {
   "cell_type": "code",
   "execution_count": 26,
   "metadata": {
    "collapsed": false
   },
   "outputs": [
    {
     "ename": "TypeError",
     "evalue": "must be str, not int",
     "output_type": "error",
     "traceback": [
      "\u001b[0;31m---------------------------------------------------------------------------\u001b[0m",
      "\u001b[0;31mTypeError\u001b[0m                                 Traceback (most recent call last)",
      "\u001b[0;32m<ipython-input-26-d77647b89944>\u001b[0m in \u001b[0;36m<module>\u001b[0;34m()\u001b[0m\n\u001b[1;32m      2\u001b[0m \u001b[0mnumber_as_integer\u001b[0m \u001b[0;34m=\u001b[0m \u001b[0;36m20057\u001b[0m\u001b[0;34m\u001b[0m\u001b[0m\n\u001b[1;32m      3\u001b[0m \u001b[0;34m\u001b[0m\u001b[0m\n\u001b[0;32m----> 4\u001b[0;31m \u001b[0mprint\u001b[0m\u001b[0;34m(\u001b[0m\u001b[0;34m\"Georgetown's zip code is \"\u001b[0m \u001b[0;34m+\u001b[0m \u001b[0mnumber_as_integer\u001b[0m\u001b[0;34m)\u001b[0m\u001b[0;34m\u001b[0m\u001b[0m\n\u001b[0m",
      "\u001b[0;31mTypeError\u001b[0m: must be str, not int"
     ]
    }
   ],
   "source": [
    "# assign Georgetown's zip code to a variable as an integer\n",
    "number_as_integer = 20057\n",
    "\n",
    "print(\"Georgetown's zip code is \" + number_as_integer)"
   ]
  },
  {
   "cell_type": "markdown",
   "metadata": {},
   "source": [
    "Use the str function to resolve this problem by returning a string version of the integer variable."
   ]
  },
  {
   "cell_type": "code",
   "execution_count": 27,
   "metadata": {
    "collapsed": false
   },
   "outputs": [
    {
     "name": "stdout",
     "output_type": "stream",
     "text": [
      "Georgetown's zip code is 20057\n"
     ]
    }
   ],
   "source": [
    "# this resolves the issue\n",
    "print(\"Georgetown's zip code is \" + str(number_as_integer))"
   ]
  },
  {
   "cell_type": "code",
   "execution_count": 28,
   "metadata": {
    "collapsed": false
   },
   "outputs": [
    {
     "data": {
      "text/plain": [
       "'20057'"
      ]
     },
     "execution_count": 28,
     "metadata": {},
     "output_type": "execute_result"
    }
   ],
   "source": [
    "# what str() returns\n",
    "str(number_as_integer)"
   ]
  },
  {
   "cell_type": "markdown",
   "metadata": {},
   "source": [
    "# Section 2: Lists\n",
    "Lists allow you to store sets of information in one location. Lists store data in a specific order, which allows for accessing elements by position, as we'll see in this section."
   ]
  },
  {
   "cell_type": "markdown",
   "metadata": {
    "collapsed": true
   },
   "source": [
    "Below, we'll make a list of capital cities."
   ]
  },
  {
   "cell_type": "code",
   "execution_count": 30,
   "metadata": {
    "collapsed": false
   },
   "outputs": [
    {
     "data": {
      "text/plain": [
       "['Washington, D.C.',\n",
       " 'Seoul',\n",
       " 'Nairobi',\n",
       " 'London',\n",
       " 'Lima',\n",
       " 'San Jose',\n",
       " 'New Delhi',\n",
       " 'Rabat',\n",
       " 'Riga',\n",
       " 'Montevideo']"
      ]
     },
     "execution_count": 30,
     "metadata": {},
     "output_type": "execute_result"
    }
   ],
   "source": [
    "# create a list country capitals\n",
    "capitals_list = [\"Washington, D.C.\", \"Seoul\", \"Nairobi\", \"London\", \"Lima\", \"San Jose\", \"New Delhi\",\n",
    "                \"Rabat\", \"Riga\", \"Montevideo\"]\n",
    "\n",
    "# display the list of capitals\n",
    "capitals_list"
   ]
  },
  {
   "cell_type": "markdown",
   "metadata": {
    "collapsed": true
   },
   "source": [
    "As you can see above, each element of the list is separated by a comma"
   ]
  },
  {
   "cell_type": "markdown",
   "metadata": {
    "collapsed": true
   },
   "source": [
    "## 2.1 - Accessing lists"
   ]
  },
  {
   "cell_type": "markdown",
   "metadata": {},
   "source": [
    "You can access elements within a list numerically (starting with 0 Python) by placing the index value within brackets that immediately follow the list variable"
   ]
  },
  {
   "cell_type": "code",
   "execution_count": 12,
   "metadata": {
    "collapsed": false
   },
   "outputs": [
    {
     "data": {
      "text/plain": [
       "'Washington, DC'"
      ]
     },
     "execution_count": 12,
     "metadata": {},
     "output_type": "execute_result"
    }
   ],
   "source": [
    "# access the first capital in the list\n",
    "capitals_list[0]"
   ]
  },
  {
   "cell_type": "code",
   "execution_count": 13,
   "metadata": {
    "collapsed": false
   },
   "outputs": [
    {
     "data": {
      "text/plain": [
       "'Nairobi'"
      ]
     },
     "execution_count": 13,
     "metadata": {},
     "output_type": "execute_result"
    }
   ],
   "source": [
    "# access the third capital in the list\n",
    "capitals_list[2]"
   ]
  },
  {
   "cell_type": "markdown",
   "metadata": {},
   "source": [
    "You can also access the last film in the list using a negative index"
   ]
  },
  {
   "cell_type": "code",
   "execution_count": 14,
   "metadata": {
    "collapsed": false
   },
   "outputs": [
    {
     "data": {
      "text/plain": [
       "'Montevideo'"
      ]
     },
     "execution_count": 14,
     "metadata": {},
     "output_type": "execute_result"
    }
   ],
   "source": [
    "# get the last capital in the list\n",
    "capitals_list[-1]"
   ]
  },
  {
   "cell_type": "markdown",
   "metadata": {},
   "source": [
    "You don't have to limit yourself to one element at a time. For example, you can select multiple elements using a colon and two index positions. However, keep in mind that the slice that is returned is **exclusive** of the second index value. Below, that means cities with indexes of 0, 1, and 2 will be returned."
   ]
  },
  {
   "cell_type": "code",
   "execution_count": 15,
   "metadata": {
    "collapsed": false
   },
   "outputs": [
    {
     "data": {
      "text/plain": [
       "['Washington, DC', 'Seoul', 'Nairobi']"
      ]
     },
     "execution_count": 15,
     "metadata": {},
     "output_type": "execute_result"
    }
   ],
   "source": [
    "# get the first three capitals\n",
    "capitals_list[0:3]"
   ]
  },
  {
   "cell_type": "markdown",
   "metadata": {},
   "source": [
    "You can also leave the second index position blank to take everything from the first index position onward."
   ]
  },
  {
   "cell_type": "code",
   "execution_count": 31,
   "metadata": {
    "collapsed": false
   },
   "outputs": [
    {
     "data": {
      "text/plain": [
       "['Nairobi',\n",
       " 'London',\n",
       " 'Lima',\n",
       " 'San Jose',\n",
       " 'New Delhi',\n",
       " 'Rabat',\n",
       " 'Riga',\n",
       " 'Montevideo']"
      ]
     },
     "execution_count": 31,
     "metadata": {},
     "output_type": "execute_result"
    }
   ],
   "source": [
    "capitals_list[2:]"
   ]
  },
  {
   "cell_type": "markdown",
   "metadata": {},
   "source": [
    "And you can use negative numbers to work your way backwards for the starting point."
   ]
  },
  {
   "cell_type": "code",
   "execution_count": 32,
   "metadata": {
    "collapsed": false
   },
   "outputs": [
    {
     "data": {
      "text/plain": [
       "['Rabat', 'Riga', 'Montevideo']"
      ]
     },
     "execution_count": 32,
     "metadata": {},
     "output_type": "execute_result"
    }
   ],
   "source": [
    "# get the last three capitals\n",
    "capitals_list[-3:]"
   ]
  },
  {
   "cell_type": "markdown",
   "metadata": {},
   "source": [
    "Somewhat of an aside, but it is often worth knowing how long an object is. Python provides the [len](https://docs.python.org/3/library/functions.html#len) function for this purpose, and it can be used to check the length of our list."
   ]
  },
  {
   "cell_type": "code",
   "execution_count": 17,
   "metadata": {
    "collapsed": false
   },
   "outputs": [
    {
     "data": {
      "text/plain": [
       "10"
      ]
     },
     "execution_count": 17,
     "metadata": {},
     "output_type": "execute_result"
    }
   ],
   "source": [
    "# how many elements are in our last?\n",
    "len(capitals_list)"
   ]
  },
  {
   "cell_type": "markdown",
   "metadata": {},
   "source": [
    "## 2.2 - Modifying lists"
   ]
  },
  {
   "cell_type": "markdown",
   "metadata": {},
   "source": [
    "You can add capitals to the list. These are some of the most common [operations](https://docs.python.org/3/library/stdtypes.html#mutable-sequence-types):\n",
    "- Add\n",
    "    - append\n",
    "    - insert\n",
    "- Remove\n",
    "    - pop\n",
    "    - del"
   ]
  },
  {
   "cell_type": "code",
   "execution_count": 18,
   "metadata": {
    "collapsed": false
   },
   "outputs": [
    {
     "data": {
      "text/plain": [
       "['Washington, DC',\n",
       " 'Seoul',\n",
       " 'Nairobi',\n",
       " 'London',\n",
       " 'Lima',\n",
       " 'San Jose',\n",
       " 'New Delhi',\n",
       " 'Rabat',\n",
       " 'Riga',\n",
       " 'Montevideo',\n",
       " 'Mexico City']"
      ]
     },
     "execution_count": 18,
     "metadata": {},
     "output_type": "execute_result"
    }
   ],
   "source": [
    "# append \"Mexico City\" to the list\n",
    "capitals_list.append(\"Mexico City\")\n",
    "\n",
    "# display\n",
    "capitals_list"
   ]
  },
  {
   "cell_type": "code",
   "execution_count": 19,
   "metadata": {
    "collapsed": false
   },
   "outputs": [
    {
     "data": {
      "text/plain": [
       "['Washington, DC',\n",
       " 'Seoul',\n",
       " 'Nairobi',\n",
       " 'London',\n",
       " 'Lima',\n",
       " 'Tokyo',\n",
       " 'San Jose',\n",
       " 'New Delhi',\n",
       " 'Rabat',\n",
       " 'Riga',\n",
       " 'Montevideo',\n",
       " 'Mexico City']"
      ]
     },
     "execution_count": 19,
     "metadata": {},
     "output_type": "execute_result"
    }
   ],
   "source": [
    "# insert \"Tokyo\" in the middle of the list\n",
    "capitals_list.insert(5, \"Tokyo\") # it will occupy position 5 (6th in the list)\n",
    "\n",
    "capitals_list"
   ]
  },
  {
   "cell_type": "markdown",
   "metadata": {},
   "source": [
    "Pop, by default, removes the last item in your list..."
   ]
  },
  {
   "cell_type": "code",
   "execution_count": 20,
   "metadata": {
    "collapsed": false
   },
   "outputs": [
    {
     "data": {
      "text/plain": [
       "['Washington, DC',\n",
       " 'Seoul',\n",
       " 'Nairobi',\n",
       " 'London',\n",
       " 'Lima',\n",
       " 'Tokyo',\n",
       " 'San Jose',\n",
       " 'New Delhi',\n",
       " 'Rabat',\n",
       " 'Riga',\n",
       " 'Montevideo']"
      ]
     },
     "execution_count": 20,
     "metadata": {},
     "output_type": "execute_result"
    }
   ],
   "source": [
    "# remove \"Mexico City\" from the list\n",
    "capitals_list.pop()\n",
    "\n",
    "# display\n",
    "capitals_list"
   ]
  },
  {
   "cell_type": "markdown",
   "metadata": {
    "collapsed": true
   },
   "source": [
    "... but you can remove a specific element from your list if you supply the index"
   ]
  },
  {
   "cell_type": "code",
   "execution_count": 21,
   "metadata": {
    "collapsed": false
   },
   "outputs": [
    {
     "data": {
      "text/plain": [
       "['Washington, DC',\n",
       " 'Seoul',\n",
       " 'Nairobi',\n",
       " 'London',\n",
       " 'Lima',\n",
       " 'San Jose',\n",
       " 'New Delhi',\n",
       " 'Rabat',\n",
       " 'Riga',\n",
       " 'Montevideo']"
      ]
     },
     "execution_count": 21,
     "metadata": {},
     "output_type": "execute_result"
    }
   ],
   "source": [
    "# remove \"Tokyo\", which occupies index 5 (remember the first element's index is equal to 0)\n",
    "capitals_list.pop(5)\n",
    "\n",
    "# display\n",
    "capitals_list"
   ]
  },
  {
   "cell_type": "markdown",
   "metadata": {},
   "source": [
    "We can be more specific and remove a capital by name using remove"
   ]
  },
  {
   "cell_type": "code",
   "execution_count": 25,
   "metadata": {
    "collapsed": false
   },
   "outputs": [
    {
     "data": {
      "text/plain": [
       "['Washington, DC',\n",
       " 'Seoul',\n",
       " 'Nairobi',\n",
       " 'Lima',\n",
       " 'San Jose',\n",
       " 'New Delhi',\n",
       " 'Rabat',\n",
       " 'Riga',\n",
       " 'Montevideo']"
      ]
     },
     "execution_count": 25,
     "metadata": {},
     "output_type": "execute_result"
    }
   ],
   "source": [
    "# let's remove \"London\" by name\n",
    "capitals_list.remove(\"London\")\n",
    "\n",
    "# display\n",
    "capitals_list"
   ]
  },
  {
   "cell_type": "markdown",
   "metadata": {},
   "source": [
    "By the way, you can assign the element removed via pop or remove to a variable"
   ]
  },
  {
   "cell_type": "code",
   "execution_count": 26,
   "metadata": {
    "collapsed": false
   },
   "outputs": [
    {
     "data": {
      "text/plain": [
       "'Montevideo'"
      ]
     },
     "execution_count": 26,
     "metadata": {},
     "output_type": "execute_result"
    }
   ],
   "source": [
    "# remove last city in list\n",
    "removed_city = capitals_list.pop()\n",
    "\n",
    "# display city just removed\n",
    "removed_city"
   ]
  },
  {
   "cell_type": "markdown",
   "metadata": {},
   "source": [
    "### Bonus: The difference between [sort](https://docs.python.org/3/library/stdtypes.html#list.sort) and [sorted](https://docs.python.org/3/library/functions.html#sorted)\n",
    "Although there names are quite similar, there is an important distinction between these two functions. Using sort() permanently sorts your list, while sorted only sorts temporarily. We will demonstrate this difference below:"
   ]
  },
  {
   "cell_type": "code",
   "execution_count": 28,
   "metadata": {
    "collapsed": false
   },
   "outputs": [
    {
     "data": {
      "text/plain": [
       "['G', 'L', 'K', 'A', 'D']"
      ]
     },
     "execution_count": 28,
     "metadata": {},
     "output_type": "execute_result"
    }
   ],
   "source": [
    "# create a list\n",
    "unsorted_list1 = [\"G\", \"L\", \"K\", \"A\", \"D\"]\n",
    "\n",
    "unsorted_list1"
   ]
  },
  {
   "cell_type": "code",
   "execution_count": 30,
   "metadata": {
    "collapsed": false
   },
   "outputs": [],
   "source": [
    "# sort using the sort function\n",
    "unsorted_list1.sort()"
   ]
  },
  {
   "cell_type": "code",
   "execution_count": 31,
   "metadata": {
    "collapsed": false
   },
   "outputs": [
    {
     "data": {
      "text/plain": [
       "['A', 'D', 'G', 'K', 'L']"
      ]
     },
     "execution_count": 31,
     "metadata": {},
     "output_type": "execute_result"
    }
   ],
   "source": [
    "# now, display unsorted_list1\n",
    "unsorted_list1"
   ]
  },
  {
   "cell_type": "code",
   "execution_count": 32,
   "metadata": {
    "collapsed": false
   },
   "outputs": [
    {
     "data": {
      "text/plain": [
       "['Z', 'C', 'O', 'E', 'V']"
      ]
     },
     "execution_count": 32,
     "metadata": {},
     "output_type": "execute_result"
    }
   ],
   "source": [
    "# create a new unsorted list\n",
    "unsorted_list2 = [\"Z\", \"C\", \"O\", \"E\", \"V\"]\n",
    "\n",
    "unsorted_list2"
   ]
  },
  {
   "cell_type": "code",
   "execution_count": 34,
   "metadata": {
    "collapsed": false
   },
   "outputs": [
    {
     "data": {
      "text/plain": [
       "['C', 'E', 'O', 'V', 'Z']"
      ]
     },
     "execution_count": 34,
     "metadata": {},
     "output_type": "execute_result"
    }
   ],
   "source": [
    "# use the sorted function\n",
    "sorted(unsorted_list2)"
   ]
  },
  {
   "cell_type": "code",
   "execution_count": 35,
   "metadata": {
    "collapsed": false
   },
   "outputs": [
    {
     "data": {
      "text/plain": [
       "['Z', 'C', 'O', 'E', 'V']"
      ]
     },
     "execution_count": 35,
     "metadata": {},
     "output_type": "execute_result"
    }
   ],
   "source": [
    "# in a separate cell we see that underlying order has not been permanently changed\n",
    "unsorted_list2"
   ]
  },
  {
   "cell_type": "code",
   "execution_count": 37,
   "metadata": {
    "collapsed": false
   },
   "outputs": [
    {
     "data": {
      "text/plain": [
       "['C', 'E', 'O', 'V', 'Z']"
      ]
     },
     "execution_count": 37,
     "metadata": {},
     "output_type": "execute_result"
    }
   ],
   "source": [
    "# but you can assign the output to a new variable\n",
    "sorted_list1 = sorted(unsorted_list2)\n",
    "\n",
    "sorted_list1"
   ]
  },
  {
   "cell_type": "code",
   "execution_count": 36,
   "metadata": {
    "collapsed": false
   },
   "outputs": [
    {
     "data": {
      "text/plain": [
       "['Z', 'V', 'O', 'E', 'C']"
      ]
     },
     "execution_count": 36,
     "metadata": {},
     "output_type": "execute_result"
    }
   ],
   "source": [
    "# worth noting you can sort in reverse\n",
    "sorted(unsorted_list2, reverse=True)"
   ]
  },
  {
   "cell_type": "markdown",
   "metadata": {},
   "source": [
    "# Section 3: Operating on lists with for loops\n",
    "[For loops](https://docs.python.org/3/tutorial/controlflow.html#for-statements) allow for operations to be performed on each element within a set of iterable elements (e.g., lists). Whether you need to perform operations on each name in a list of names, or on each row in a table with millions of records, for loops can be of immense value."
   ]
  },
  {
   "cell_type": "markdown",
   "metadata": {},
   "source": [
    "Above, we learned how to create lists. With for loops, you can perform operations on each element within"
   ]
  },
  {
   "cell_type": "code",
   "execution_count": 6,
   "metadata": {
    "collapsed": true
   },
   "outputs": [],
   "source": [
    "# create a list\n",
    "iterable_list1 = [1, 2, 4, 6, 8, 10, 12, 14]"
   ]
  },
  {
   "cell_type": "code",
   "execution_count": 7,
   "metadata": {
    "collapsed": false
   },
   "outputs": [
    {
     "name": "stdout",
     "output_type": "stream",
     "text": [
      "1\n",
      "4\n",
      "16\n",
      "36\n",
      "64\n",
      "100\n",
      "144\n",
      "196\n"
     ]
    }
   ],
   "source": [
    "# each element to the power of 2\n",
    "for number in iterable_list1:\n",
    "    print(number ** 2)"
   ]
  },
  {
   "cell_type": "markdown",
   "metadata": {},
   "source": [
    "The text immediately following the \"for\" can be anything. Above, we used \"number\" to make it relevant to the context."
   ]
  },
  {
   "cell_type": "code",
   "execution_count": 8,
   "metadata": {
    "collapsed": false
   },
   "outputs": [
    {
     "name": "stdout",
     "output_type": "stream",
     "text": [
      "1\n",
      "4\n",
      "16\n",
      "36\n",
      "64\n",
      "100\n",
      "144\n",
      "196\n"
     ]
    }
   ],
   "source": [
    "# you can use any number\n",
    "for i in iterable_list1:\n",
    "    print(i ** 2)"
   ]
  },
  {
   "cell_type": "code",
   "execution_count": 5,
   "metadata": {
    "collapsed": false
   },
   "outputs": [
    {
     "name": "stdout",
     "output_type": "stream",
     "text": [
      "2 squared is equal to 4\n",
      "4 squared is equal to 16\n",
      "6 squared is equal to 36\n",
      "8 squared is equal to 64\n",
      "10 squared is equal to 100\n",
      "12 squared is equal to 144\n",
      "14 squared is equal to 196\n"
     ]
    }
   ],
   "source": [
    "# if you want to add a bit more detail..\n",
    "for number in iterable_list1:\n",
    "    print(str(number) + \" squared is equal to \" + str(number ** 2))"
   ]
  },
  {
   "cell_type": "code",
   "execution_count": 6,
   "metadata": {
    "collapsed": true
   },
   "outputs": [],
   "source": [
    "# create a list with names\n",
    "cities_list = [\"Columbus\", \"Boston\", \"Los Angeles\"]"
   ]
  },
  {
   "cell_type": "code",
   "execution_count": 7,
   "metadata": {
    "collapsed": false
   },
   "outputs": [
    {
     "name": "stdout",
     "output_type": "stream",
     "text": [
      "Columbus is a city in the US\n",
      "Boston is a city in the US\n",
      "Los Angeles is a city in the US\n"
     ]
    }
   ],
   "source": [
    "# append text to each city\n",
    "for city in cities_list:\n",
    "    print(city + \" is a city in the US\")"
   ]
  },
  {
   "cell_type": "markdown",
   "metadata": {},
   "source": [
    "It's worth noting the difference between using a for loop on a single word vs a list of words"
   ]
  },
  {
   "cell_type": "code",
   "execution_count": 8,
   "metadata": {
    "collapsed": false
   },
   "outputs": [
    {
     "name": "stdout",
     "output_type": "stream",
     "text": [
      "S\n",
      "e\n",
      "a\n",
      "t\n",
      "t\n",
      "l\n",
      "e\n"
     ]
    }
   ],
   "source": [
    "# assign city variable\n",
    "city = \"Seattle\"\n",
    "\n",
    "# for loop on city\n",
    "for letter in city:\n",
    "    print(letter)"
   ]
  },
  {
   "cell_type": "code",
   "execution_count": 9,
   "metadata": {
    "collapsed": false
   },
   "outputs": [
    {
     "name": "stdout",
     "output_type": "stream",
     "text": [
      "Columbus\n",
      "Boston\n",
      "Los Angeles\n"
     ]
    }
   ],
   "source": [
    "# compare the above to for loop on list of cities\n",
    "for city in cities_list:\n",
    "    print(city)"
   ]
  },
  {
   "cell_type": "markdown",
   "metadata": {
    "collapsed": true
   },
   "source": [
    "# Section 4: If Statements\n",
    "[If statements](https://docs.python.org/3/tutorial/controlflow.html#if-statements) allow you to take certain actions depending on whether a specific condition is true."
   ]
  },
  {
   "cell_type": "markdown",
   "metadata": {},
   "source": [
    "## 4.1 - If-else"
   ]
  },
  {
   "cell_type": "markdown",
   "metadata": {},
   "source": [
    "Let's make a list containing winners of the UEFA Champions League (UCL) within the last 10 years. We will then apply some tests on variables that we will subsequently create to demonstrate if statement functionality."
   ]
  },
  {
   "cell_type": "code",
   "execution_count": 11,
   "metadata": {
    "collapsed": false
   },
   "outputs": [
    {
     "data": {
      "text/plain": [
       "['Liverpool',\n",
       " 'Real Madrid',\n",
       " 'Barcelona',\n",
       " 'Bayern Munich',\n",
       " 'Chelsea',\n",
       " 'Internazionale']"
      ]
     },
     "execution_count": 11,
     "metadata": {},
     "output_type": "execute_result"
    }
   ],
   "source": [
    "# define list of UCL winners since 2009\n",
    "ucl_winner_last_10_yrs = [\"Liverpool\", \"Real Madrid\", \"Barcelona\", \"Bayern Munich\", \"Chelsea\", \"Internazionale\"]\n",
    "\n",
    "# display\n",
    "ucl_winner_last_10_yrs"
   ]
  },
  {
   "cell_type": "code",
   "execution_count": 12,
   "metadata": {
    "collapsed": true
   },
   "outputs": [],
   "source": [
    "# assign a team to a new variable\n",
    "team1 = \"Liverpool\""
   ]
  },
  {
   "cell_type": "markdown",
   "metadata": {},
   "source": [
    "Here we will build an if statement that will tell us if the team above is a UCL winner. If not, the else component of the statement will tell us this."
   ]
  },
  {
   "cell_type": "code",
   "execution_count": 13,
   "metadata": {
    "collapsed": false
   },
   "outputs": [
    {
     "name": "stdout",
     "output_type": "stream",
     "text": [
      "Liverpool has won the Champions League within the last 10 years.\n"
     ]
    }
   ],
   "source": [
    "# if statement\n",
    "if team1 in ucl_winner_last_10_yrs:\n",
    "    print(str(team1) + \" has won the Champions League within the last 10 years.\")\n",
    "else:\n",
    "    print(\"Sorry, it doesn't look like this team has won the Champions League in the last decade.\")"
   ]
  },
  {
   "cell_type": "code",
   "execution_count": 14,
   "metadata": {
    "collapsed": false
   },
   "outputs": [
    {
     "name": "stdout",
     "output_type": "stream",
     "text": [
      "Sorry, it doesn't look like Manchester United has won the Champions League in the last decade.\n"
     ]
    }
   ],
   "source": [
    "# now let's try the above with a new team\n",
    "team2 = \"Manchester United\"\n",
    "\n",
    "# repeat if statement, except now with test on team2\n",
    "if team2 in ucl_winner_last_10_yrs:\n",
    "    print(str(team1) + \" has won the Champions League within the last 10 years.\")\n",
    "else:\n",
    "    print(\"Sorry, it doesn't look like \" + str(team2) + \" has won the Champions League in the last decade.\")"
   ]
  },
  {
   "cell_type": "markdown",
   "metadata": {},
   "source": [
    "Pretty cool, right? However, you don't have to provide one variable at a time. Let's create a list of teams and have our if statement tell us whether the current Premier League teams have won the Premier League (1992 - present)"
   ]
  },
  {
   "cell_type": "code",
   "execution_count": 15,
   "metadata": {
    "collapsed": true
   },
   "outputs": [],
   "source": [
    "# list of Premier League winners\n",
    "pl_winners = ['Manchester City', 'Chelsea', 'Leicester City', 'Manchester United', 'Arsenal', 'Blackburn Rovers']"
   ]
  },
  {
   "cell_type": "code",
   "execution_count": 16,
   "metadata": {
    "collapsed": true
   },
   "outputs": [],
   "source": [
    "# list of current premier league teams\n",
    "pl_teams = ['Arsenal', 'Aston Villa', 'Bournemouth', 'Brighton & Hove Albion', 'Burnley', 'Chelsea'\n",
    "            , 'Crystal Palace', 'Everton', 'Leicester City', 'Liverpool', 'Manchester City', 'Manchester United'\n",
    "            , 'Newcastle United', 'Norwich City', 'Sheffield United', 'Southampton', 'Tottenham Hotspur', 'Watford'\n",
    "            , 'West Ham United', 'Wolves']"
   ]
  },
  {
   "cell_type": "code",
   "execution_count": 17,
   "metadata": {
    "collapsed": false
   },
   "outputs": [
    {
     "name": "stdout",
     "output_type": "stream",
     "text": [
      "Arsenal has won the Premier League.\n",
      "Aston Villa has never won the Premier League.\n",
      "Bournemouth has never won the Premier League.\n",
      "Brighton & Hove Albion has never won the Premier League.\n",
      "Burnley has never won the Premier League.\n",
      "Chelsea has won the Premier League.\n",
      "Crystal Palace has never won the Premier League.\n",
      "Everton has never won the Premier League.\n",
      "Leicester City has won the Premier League.\n",
      "Liverpool has never won the Premier League.\n",
      "Manchester City has won the Premier League.\n",
      "Manchester United has won the Premier League.\n",
      "Newcastle United has never won the Premier League.\n",
      "Norwich City has never won the Premier League.\n",
      "Sheffield United has never won the Premier League.\n",
      "Southampton has never won the Premier League.\n",
      "Tottenham Hotspur has never won the Premier League.\n",
      "Watford has never won the Premier League.\n",
      "West Ham United has never won the Premier League.\n",
      "Wolves has never won the Premier League.\n"
     ]
    }
   ],
   "source": [
    "# for loop with an if statement\n",
    "for team in pl_teams:\n",
    "    if team in pl_winners:\n",
    "        print(str(team) + \" has won the Premier League.\")\n",
    "    else:\n",
    "        print(str(team) + \" has never won the Premier League.\")"
   ]
  },
  {
   "cell_type": "markdown",
   "metadata": {},
   "source": [
    "## 4.2 - If-elif-else\n",
    "Conditions are not always binary. What if we want to test whether a number is a single digit, a tens digit, or a hundreds digit? Including elif allows you to add a little more complexity to your if statements."
   ]
  },
  {
   "cell_type": "code",
   "execution_count": 9,
   "metadata": {
    "collapsed": true
   },
   "outputs": [],
   "source": [
    "# create a list of numbers\n",
    "some_numbers = [1, 10, 100, 1000, 10000, 3549823]"
   ]
  },
  {
   "cell_type": "code",
   "execution_count": 10,
   "metadata": {
    "collapsed": false
   },
   "outputs": [
    {
     "name": "stdout",
     "output_type": "stream",
     "text": [
      "1 is a units digit\n",
      "10 is a tens digit\n",
      "100 is a hundreds digit\n",
      "1000 is a thousands digit\n",
      "Wow, 10000 must be pretty big!\n",
      "Wow, 3549823 must be pretty big!\n"
     ]
    }
   ],
   "source": [
    "# as with above, for loop that applies if statement to each element\n",
    "for number in some_numbers:\n",
    "    if len(str(number)) == 1:\n",
    "        print(str(number) + \" is a units digit\")\n",
    "    elif len(str(number)) == 2:\n",
    "        print(str(number) + \" is a tens digit\")\n",
    "    elif len(str(number)) == 3:\n",
    "        print(str(number) + \" is a hundreds digit\")\n",
    "    elif len(str(number)) == 4:\n",
    "        print(str(number) + \" is a thousands digit\")\n",
    "    else:\n",
    "        print(\"Wow, \" + str(number) + \" must be pretty big!\")"
   ]
  },
  {
   "cell_type": "markdown",
   "metadata": {},
   "source": [
    "# Section 5: Dictionaries\n",
    "So far, we've been assigning single values, or lists of values, to variables. For instance, we've assigned a list of capital cities to a list. But what if we also wanted to map the country that corresponds to each capital? With dictionaries, we can assign keys to values. This, for instance, allows us to map relationships and query values by specific keys."
   ]
  },
  {
   "cell_type": "markdown",
   "metadata": {},
   "source": [
    "## 5.1 - Defining and querying dictionaries"
   ]
  },
  {
   "cell_type": "code",
   "execution_count": 27,
   "metadata": {
    "collapsed": false
   },
   "outputs": [
    {
     "data": {
      "text/plain": [
       "['Washington, DC',\n",
       " 'Seoul',\n",
       " 'Nairobi',\n",
       " 'London',\n",
       " 'Lima',\n",
       " 'San Jose',\n",
       " 'New Delhi',\n",
       " 'Rabat',\n",
       " 'Riga',\n",
       " 'Montevideo']"
      ]
     },
     "execution_count": 27,
     "metadata": {},
     "output_type": "execute_result"
    }
   ],
   "source": [
    "# recall we defined capitals_list earlier\n",
    "capitals_list"
   ]
  },
  {
   "cell_type": "code",
   "execution_count": 12,
   "metadata": {
    "collapsed": false
   },
   "outputs": [
    {
     "data": {
      "text/plain": [
       "{'Costa Rica': 'San Jose',\n",
       " 'India': 'New Delhi',\n",
       " 'Kenya': 'Nairobi',\n",
       " 'Latvia': 'Riga',\n",
       " 'Morocco': 'Rabat',\n",
       " 'Peru': 'Lima',\n",
       " 'South Korea': 'Seoul',\n",
       " 'USA': 'Washington, D.C.',\n",
       " 'Uruguay': 'Montevideo'}"
      ]
     },
     "execution_count": 12,
     "metadata": {},
     "output_type": "execute_result"
    }
   ],
   "source": [
    "# let's create a dictionary with the respective countries as keys\n",
    "capitals_dictionary = {\n",
    "    \"USA\": \"Washington, D.C.\",\n",
    "    \"South Korea\": \"Seoul\",\n",
    "    \"Kenya\": \"Nairobi\",\n",
    "    \"Peru\": \"Lima\",\n",
    "    \"Costa Rica\": \"San Jose\",\n",
    "    \"India\": \"New Delhi\",\n",
    "    \"Morocco\": \"Rabat\",\n",
    "    \"Latvia\": \"Riga\",\n",
    "    \"Uruguay\": \"Montevideo\"\n",
    "}\n",
    "\n",
    "# display\n",
    "capitals_dictionary"
   ]
  },
  {
   "cell_type": "markdown",
   "metadata": {},
   "source": [
    "You will notice that dictionaries are not stored in any particular order, as is the case with lists. That is because we reference values by key, as opposed to index. Below, we'll take a look at how you can reference values inside your dictionary."
   ]
  },
  {
   "cell_type": "code",
   "execution_count": 33,
   "metadata": {
    "collapsed": false
   },
   "outputs": [
    {
     "data": {
      "text/plain": [
       "'Rabat'"
      ]
     },
     "execution_count": 33,
     "metadata": {},
     "output_type": "execute_result"
    }
   ],
   "source": [
    "# we can query specific countries now\n",
    "capitals_dictionary[\"Morocco\"]"
   ]
  },
  {
   "cell_type": "markdown",
   "metadata": {},
   "source": [
    "While you can query by key, you cannot do so by value."
   ]
  },
  {
   "cell_type": "code",
   "execution_count": 34,
   "metadata": {
    "collapsed": false
   },
   "outputs": [
    {
     "ename": "KeyError",
     "evalue": "'Rabat'",
     "output_type": "error",
     "traceback": [
      "\u001b[0;31m---------------------------------------------------------------------------\u001b[0m",
      "\u001b[0;31mKeyError\u001b[0m                                  Traceback (most recent call last)",
      "\u001b[0;32m<ipython-input-34-f03417119593>\u001b[0m in \u001b[0;36m<module>\u001b[0;34m()\u001b[0m\n\u001b[1;32m      1\u001b[0m \u001b[0;31m# we cannot query capitals (they're not key)\u001b[0m\u001b[0;34m\u001b[0m\u001b[0;34m\u001b[0m\u001b[0m\n\u001b[0;32m----> 2\u001b[0;31m \u001b[0mcapitals_dictionary\u001b[0m\u001b[0;34m[\u001b[0m\u001b[0;34m\"Rabat\"\u001b[0m\u001b[0;34m]\u001b[0m\u001b[0;34m\u001b[0m\u001b[0m\n\u001b[0m",
      "\u001b[0;31mKeyError\u001b[0m: 'Rabat'"
     ]
    }
   ],
   "source": [
    "# we cannot query capitals (they're not key)\n",
    "capitals_dictionary[\"Rabat\"]"
   ]
  },
  {
   "cell_type": "code",
   "execution_count": 37,
   "metadata": {
    "collapsed": false
   },
   "outputs": [
    {
     "ename": "KeyError",
     "evalue": "1",
     "output_type": "error",
     "traceback": [
      "\u001b[0;31m---------------------------------------------------------------------------\u001b[0m",
      "\u001b[0;31mKeyError\u001b[0m                                  Traceback (most recent call last)",
      "\u001b[0;32m<ipython-input-37-19efc830fb4a>\u001b[0m in \u001b[0;36m<module>\u001b[0;34m()\u001b[0m\n\u001b[1;32m      1\u001b[0m \u001b[0;31m# we cannot query by index either (as you can with lists)\u001b[0m\u001b[0;34m\u001b[0m\u001b[0;34m\u001b[0m\u001b[0m\n\u001b[0;32m----> 2\u001b[0;31m \u001b[0mcapitals_dictionary\u001b[0m\u001b[0;34m[\u001b[0m\u001b[0;36m1\u001b[0m\u001b[0;34m]\u001b[0m\u001b[0;34m\u001b[0m\u001b[0m\n\u001b[0m",
      "\u001b[0;31mKeyError\u001b[0m: 1"
     ]
    }
   ],
   "source": [
    "# we cannot query by index either (as you can with lists)\n",
    "capitals_dictionary[1]"
   ]
  },
  {
   "cell_type": "code",
   "execution_count": 35,
   "metadata": {
    "collapsed": false
   },
   "outputs": [
    {
     "data": {
      "text/plain": [
       "dict_keys(['USA', 'South Korea', 'Kenya', 'Peru', 'Costa Rica', 'India', 'Morocco', 'Latvia', 'Uruguay'])"
      ]
     },
     "execution_count": 35,
     "metadata": {},
     "output_type": "execute_result"
    }
   ],
   "source": [
    "# you can display all countries\n",
    "capitals_dictionary.keys()"
   ]
  },
  {
   "cell_type": "markdown",
   "metadata": {},
   "source": [
    "## 5.2 - Adding to a dictionary\n",
    "As with lists, we can add information to dictionaries. This process will look much like what you would do to query a key-value pairing."
   ]
  },
  {
   "cell_type": "code",
   "execution_count": 13,
   "metadata": {
    "collapsed": false
   },
   "outputs": [
    {
     "data": {
      "text/plain": [
       "{'Costa Rica': 'San Jose',\n",
       " 'France': 'Paris',\n",
       " 'India': 'New Delhi',\n",
       " 'Kenya': 'Nairobi',\n",
       " 'Latvia': 'Riga',\n",
       " 'Morocco': 'Rabat',\n",
       " 'Peru': 'Lima',\n",
       " 'South Korea': 'Seoul',\n",
       " 'USA': 'Washington, D.C.',\n",
       " 'Uruguay': 'Montevideo'}"
      ]
     },
     "execution_count": 13,
     "metadata": {},
     "output_type": "execute_result"
    }
   ],
   "source": [
    "# add France (key) & Paris (value) to the dictionary\n",
    "capitals_dictionary[\"France\"] = \"Paris\"\n",
    "\n",
    "# display dictionary\n",
    "capitals_dictionary"
   ]
  },
  {
   "cell_type": "markdown",
   "metadata": {},
   "source": [
    "### Deleting an item from a dictionary\n",
    "Use the [del statement](https://docs.python.org/3/tutorial/datastructures.html#the-del-statement) to permanently delete an item from your dictionary."
   ]
  },
  {
   "cell_type": "code",
   "execution_count": 38,
   "metadata": {
    "collapsed": false
   },
   "outputs": [
    {
     "data": {
      "text/plain": [
       "{'Costa Rica': 'San Jose',\n",
       " 'India': 'New Delhi',\n",
       " 'Kenya': 'Nairobi',\n",
       " 'Latvia': 'Riga',\n",
       " 'Morocco': 'Rabat',\n",
       " 'Peru': 'Lima',\n",
       " 'South Korea': 'Seoul',\n",
       " 'USA': 'Washington, D.C.',\n",
       " 'Uruguay': 'Montevideo'}"
      ]
     },
     "execution_count": 38,
     "metadata": {},
     "output_type": "execute_result"
    }
   ],
   "source": [
    "# let's remove the most recent country-capital pairing we just added\n",
    "del capitals_dictionary[\"France\"]\n",
    "\n",
    "# display\n",
    "capitals_dictionary"
   ]
  },
  {
   "cell_type": "markdown",
   "metadata": {},
   "source": [
    "## Bonus: For loops and dictionaries\n",
    "As with lists, you can iterate over the items in your dictionary with for loop. However, given the different manner in which data is stored for dictionaries, there are a few important distinctions."
   ]
  },
  {
   "cell_type": "markdown",
   "metadata": {},
   "source": [
    "For instance, you need to specify both the key and the value to access both elements:"
   ]
  },
  {
   "cell_type": "code",
   "execution_count": 40,
   "metadata": {
    "collapsed": false
   },
   "outputs": [
    {
     "name": "stdout",
     "output_type": "stream",
     "text": [
      "Washington, D.C. is the capital of USA\n",
      "Seoul is the capital of South Korea\n",
      "Nairobi is the capital of Kenya\n",
      "Lima is the capital of Peru\n",
      "San Jose is the capital of Costa Rica\n",
      "New Delhi is the capital of India\n",
      "Rabat is the capital of Morocco\n",
      "Riga is the capital of Latvia\n",
      "Montevideo is the capital of Uruguay\n"
     ]
    }
   ],
   "source": [
    "# print each country-capital pairing\n",
    "for country, capital in capitals_dictionary.items():\n",
    "    print(capital, \"is the capital of\", country)"
   ]
  },
  {
   "cell_type": "markdown",
   "metadata": {},
   "source": [
    "Notice, above, the comma separated variables (country, capital). Since we're dealing with keys and corresponding values here, both are necessary to output the country-capital pairings. Additionally, the [.items() method](https://docs.python.org/3/tutorial/datastructures.html#looping-techniques) is needed to access both the keys and the values."
   ]
  },
  {
   "cell_type": "code",
   "execution_count": 41,
   "metadata": {
    "collapsed": false
   },
   "outputs": [
    {
     "data": {
      "text/plain": [
       "dict_items([('USA', 'Washington, D.C.'), ('South Korea', 'Seoul'), ('Kenya', 'Nairobi'), ('Peru', 'Lima'), ('Costa Rica', 'San Jose'), ('India', 'New Delhi'), ('Morocco', 'Rabat'), ('Latvia', 'Riga'), ('Uruguay', 'Montevideo')])"
      ]
     },
     "execution_count": 41,
     "metadata": {},
     "output_type": "execute_result"
    }
   ],
   "source": [
    "# here is the output of .items() for reference\n",
    "# this is what the for loop above is iterating on\n",
    "capitals_dictionary.items()"
   ]
  },
  {
   "cell_type": "markdown",
   "metadata": {},
   "source": [
    "You can also loop through just keys or values."
   ]
  },
  {
   "cell_type": "code",
   "execution_count": 42,
   "metadata": {
    "collapsed": false
   },
   "outputs": [
    {
     "name": "stdout",
     "output_type": "stream",
     "text": [
      "USA is a country in our dictionary\n",
      "South Korea is a country in our dictionary\n",
      "Kenya is a country in our dictionary\n",
      "Peru is a country in our dictionary\n",
      "Costa Rica is a country in our dictionary\n",
      "India is a country in our dictionary\n",
      "Morocco is a country in our dictionary\n",
      "Latvia is a country in our dictionary\n",
      "Uruguay is a country in our dictionary\n"
     ]
    }
   ],
   "source": [
    "# display countries in your dictionary\n",
    "for country in capitals_dictionary.keys():\n",
    "    print(country, \"is a country in our dictionary\")"
   ]
  },
  {
   "cell_type": "code",
   "execution_count": 43,
   "metadata": {
    "collapsed": false
   },
   "outputs": [
    {
     "name": "stdout",
     "output_type": "stream",
     "text": [
      "Washington, D.C. is a capital in our dictionary\n",
      "Seoul is a capital in our dictionary\n",
      "Nairobi is a capital in our dictionary\n",
      "Lima is a capital in our dictionary\n",
      "San Jose is a capital in our dictionary\n",
      "New Delhi is a capital in our dictionary\n",
      "Rabat is a capital in our dictionary\n",
      "Riga is a capital in our dictionary\n",
      "Montevideo is a capital in our dictionary\n"
     ]
    }
   ],
   "source": [
    "# display capitals in your dictionary\n",
    "for capital in capitals_dictionary.values():\n",
    "    print(capital, \"is a capital in our dictionary\")"
   ]
  },
  {
   "cell_type": "markdown",
   "metadata": {},
   "source": [
    "## Bonus: Nested dictionaries\n",
    "If you want to store various entries for a specific entity, it's likely you'll be doing some nesting. You can store dictionaries inside a list, lists inside a dictionary, or dictionaries inside a dictionary. Below, we'll include some examples using the [World Bank data site](https://data.worldbank.org/) explore what that looks like with country data."
   ]
  },
  {
   "cell_type": "markdown",
   "metadata": {},
   "source": [
    "### Dictionary inside a list (and list inside a dictionary)"
   ]
  },
  {
   "cell_type": "code",
   "execution_count": 49,
   "metadata": {
    "collapsed": false
   },
   "outputs": [
    {
     "data": {
      "text/plain": [
       "[{'Country:': 'Indonesia',\n",
       "  'GDP (in billions):': 1042,\n",
       "  'Population (in millions):': 267.663,\n",
       "  'Primary flag colors:': ['red', 'white']},\n",
       " {'Country:': 'Brazil',\n",
       "  'GDP (in billions):': 1869,\n",
       "  'Population (in millions):': 209.469,\n",
       "  'Primary flag colors': ['green', 'blue', 'yellow']},\n",
       " {'Country:': 'Canada',\n",
       "  'GDP (in billions):': 1713,\n",
       "  'Population (in millions):': 37.058,\n",
       "  'Primary flag colors:': ['red', 'white']}]"
      ]
     },
     "execution_count": 49,
     "metadata": {},
     "output_type": "execute_result"
    }
   ],
   "source": [
    "# dictionaries inside a list\n",
    "list_of_dictionaries = [\n",
    "    {\n",
    "        \"Country:\": \"Indonesia\",\n",
    "        \"GDP (in billions):\": 1042, # 1.4 trillion\n",
    "        \"Population (in millions):\": 267.663, # 267 million\n",
    "        \"Primary flag colors:\": [\"red\", \"white\"] # list nested inside a dictionary\n",
    "    },\n",
    "    {\n",
    "        \"Country:\": \"Brazil\",\n",
    "        \"GDP (in billions):\": 1869, # 1.8 trillion\n",
    "        \"Population (in millions):\": 209.469, # 209 million\n",
    "        \"Primary flag colors\": [\"green\", \"blue\", \"yellow\"]\n",
    "    },\n",
    "    {\n",
    "        \"Country:\": \"Canada\",\n",
    "        \"GDP (in billions):\": 1713, # 1.7 trillion\n",
    "        \"Population (in millions):\": 37.058, # 37 million\n",
    "        \"Primary flag colors:\": [\"red\", \"white\"]\n",
    "    }\n",
    "]\n",
    "\n",
    "# display\n",
    "list_of_dictionaries"
   ]
  },
  {
   "cell_type": "code",
   "execution_count": 50,
   "metadata": {
    "collapsed": false
   },
   "outputs": [
    {
     "data": {
      "text/plain": [
       "{'Country:': 'Indonesia',\n",
       " 'GDP (in billions):': 1042,\n",
       " 'Population (in millions):': 267.663,\n",
       " 'Primary flag colors:': ['red', 'white']}"
      ]
     },
     "execution_count": 50,
     "metadata": {},
     "output_type": "execute_result"
    }
   ],
   "source": [
    "# access one of the countries via list index\n",
    "list_of_dictionaries[0]"
   ]
  },
  {
   "cell_type": "code",
   "execution_count": 52,
   "metadata": {
    "collapsed": false
   },
   "outputs": [
    {
     "data": {
      "text/plain": [
       "'Indonesia'"
      ]
     },
     "execution_count": 52,
     "metadata": {},
     "output_type": "execute_result"
    }
   ],
   "source": [
    "# advance one layer deeper\n",
    "list_of_dictionaries[0][\"Country:\"]"
   ]
  },
  {
   "cell_type": "markdown",
   "metadata": {},
   "source": [
    "### Dictionary inside a dictionary"
   ]
  },
  {
   "cell_type": "code",
   "execution_count": 2,
   "metadata": {
    "collapsed": false
   },
   "outputs": [
    {
     "data": {
      "text/plain": [
       "{'Brazil': {'GDP (in billions):': 1869,\n",
       "  'Population (in millions):': 209.469,\n",
       "  'Primary flag colors': ['green', 'blue', 'yellow']},\n",
       " 'Canada': {'GDP (in billions):': 1713,\n",
       "  'Population (in millions):': 37.058,\n",
       "  'Primary flag colors:': ['red', 'white']},\n",
       " 'Indonesia': {'GDP (in billions):': 1042,\n",
       "  'Population (in millions):': 267.663,\n",
       "  'Primary flag colors:': ['red', 'white']}}"
      ]
     },
     "execution_count": 2,
     "metadata": {},
     "output_type": "execute_result"
    }
   ],
   "source": [
    "dictionary_of_dictionaries = {\n",
    "    \"Indonesia\": {\n",
    "        \"GDP (in billions):\": 1042, # 1.4 trillion\n",
    "        \"Population (in millions):\": 267.663, # 267 million\n",
    "        \"Primary flag colors:\": [\"red\", \"white\"] # list nested inside a dictionary\n",
    "    },\n",
    "    \"Brazil\": {\n",
    "        \"GDP (in billions):\": 1869, # 1.8 trillion\n",
    "        \"Population (in millions):\": 209.469, # 209 million\n",
    "        \"Primary flag colors\": [\"green\", \"blue\", \"yellow\"]\n",
    "    },\n",
    "    \"Canada\": {\n",
    "        \"GDP (in billions):\": 1713, # 1.7 trillion\n",
    "        \"Population (in millions):\": 37.058, # 37 million\n",
    "        \"Primary flag colors:\": [\"red\", \"white\"]\n",
    "    }\n",
    "}\n",
    "\n",
    "dictionary_of_dictionaries"
   ]
  },
  {
   "cell_type": "code",
   "execution_count": 5,
   "metadata": {
    "collapsed": false
   },
   "outputs": [
    {
     "data": {
      "text/plain": [
       "dict_items([('Indonesia', {'GDP (in billions):': 1042, 'Population (in millions):': 267.663, 'Primary flag colors:': ['red', 'white']}), ('Brazil', {'GDP (in billions):': 1869, 'Population (in millions):': 209.469, 'Primary flag colors': ['green', 'blue', 'yellow']}), ('Canada', {'GDP (in billions):': 1713, 'Population (in millions):': 37.058, 'Primary flag colors:': ['red', 'white']})])"
      ]
     },
     "execution_count": 5,
     "metadata": {},
     "output_type": "execute_result"
    }
   ],
   "source": [
    "# dictionary items appear as follows\n",
    "dictionary_of_dictionaries.items()"
   ]
  },
  {
   "cell_type": "code",
   "execution_count": 4,
   "metadata": {
    "collapsed": false
   },
   "outputs": [
    {
     "data": {
      "text/plain": [
       "{'GDP (in billions):': 1869,\n",
       " 'Population (in millions):': 209.469,\n",
       " 'Primary flag colors': ['green', 'blue', 'yellow']}"
      ]
     },
     "execution_count": 4,
     "metadata": {},
     "output_type": "execute_result"
    }
   ],
   "source": [
    "# access a particular key, in this case the country name\n",
    "dictionary_of_dictionaries[\"Brazil\"]"
   ]
  },
  {
   "cell_type": "markdown",
   "metadata": {
    "collapsed": true
   },
   "source": [
    "And, of course, we can apply for loops on the dictionaries nested within the dictionary. Below, we will look at each country's GDP. Note that the specific element in the .items() output that you want to access (in this case the GDP value) is accessed by providing the relevant key (\"GDP (in billions):\") inside the square brackets."
   ]
  },
  {
   "cell_type": "code",
   "execution_count": 7,
   "metadata": {
    "collapsed": false
   },
   "outputs": [
    {
     "name": "stdout",
     "output_type": "stream",
     "text": [
      "Indonesia has a GDP of 1042 billion.\n",
      "Brazil has a GDP of 1869 billion.\n",
      "Canada has a GDP of 1713 billion.\n"
     ]
    }
   ],
   "source": [
    "for country, country_data in dictionary_of_dictionaries.items():\n",
    "    print(country, \"has a GDP of\", country_data[\"GDP (in billions):\"], \"billion.\")"
   ]
  },
  {
   "cell_type": "markdown",
   "metadata": {},
   "source": [
    "# Section 6: Functions\n",
    "Sometimes, it can be repetitive to write the same code over and over to achieve the same output. Functions allow for you to apply the same operations across different parameters (inputs that the function can act upon), saving you time and making your code look cleaner"
   ]
  },
  {
   "cell_type": "markdown",
   "metadata": {
    "collapsed": true
   },
   "source": [
    "### Calculating a tip\n"
   ]
  },
  {
   "cell_type": "markdown",
   "metadata": {},
   "source": [
    "Let's say you want to determine how much tip to leave on your restaurant receipt. To determine the tip amount you need to know the total amount and the tip percentage you intend to leave. Keeping that in mind, we'll define a function that with _total_ and _tip percentage_ **parameters**."
   ]
  },
  {
   "cell_type": "code",
   "execution_count": 8,
   "metadata": {
    "collapsed": true
   },
   "outputs": [],
   "source": [
    "# define our tip function\n",
    "def tip_calc_fun(total, tip_percentage):\n",
    "    print(total * tip_percentage)"
   ]
  },
  {
   "cell_type": "markdown",
   "metadata": {},
   "source": [
    "Now that our function is defined, let's pass some **arguments** to it. These argument values are stored by the two parameters we defined above."
   ]
  },
  {
   "cell_type": "code",
   "execution_count": 9,
   "metadata": {
    "collapsed": false
   },
   "outputs": [
    {
     "name": "stdout",
     "output_type": "stream",
     "text": [
      "14.4\n"
     ]
    }
   ],
   "source": [
    "# apply the function on two arguments\n",
    "tip_calc_fun(total = 72, tip_percentage = 0.2)"
   ]
  },
  {
   "cell_type": "markdown",
   "metadata": {
    "collapsed": true
   },
   "source": [
    "It is worth noting that you do not need to include the parameters in your function call. You can simply places arguments in the appropriate positions."
   ]
  },
  {
   "cell_type": "code",
   "execution_count": 10,
   "metadata": {
    "collapsed": false
   },
   "outputs": [
    {
     "name": "stdout",
     "output_type": "stream",
     "text": [
      "9.719999999999999\n"
     ]
    }
   ],
   "source": [
    "tip_calc_fun(54, 0.18)"
   ]
  },
  {
   "cell_type": "markdown",
   "metadata": {
    "collapsed": true
   },
   "source": [
    "Now say you always tip 18% no matter what. You can save some time by not having to input the tip percentage every time you call your function. To do this, simply assign the percentage argument to the parameter when defining the function."
   ]
  },
  {
   "cell_type": "code",
   "execution_count": 11,
   "metadata": {
    "collapsed": true
   },
   "outputs": [],
   "source": [
    "# define our tip function, with 18% as the default\n",
    "def tip_calc_fun(total, tip_percentage = 0.18):\n",
    "    print(total * tip_percentage)"
   ]
  },
  {
   "cell_type": "code",
   "execution_count": 12,
   "metadata": {
    "collapsed": false
   },
   "outputs": [
    {
     "name": "stdout",
     "output_type": "stream",
     "text": [
      "8.64\n"
     ]
    }
   ],
   "source": [
    "# calculate 18% tip on any amount\n",
    "tip_calc_fun(48)"
   ]
  },
  {
   "cell_type": "markdown",
   "metadata": {},
   "source": [
    "But, even if you assign a default percentage, you can still pass different tip percentage arguments explicitly or by position."
   ]
  },
  {
   "cell_type": "code",
   "execution_count": 14,
   "metadata": {
    "collapsed": false
   },
   "outputs": [
    {
     "name": "stdout",
     "output_type": "stream",
     "text": [
      "10.0\n"
     ]
    }
   ],
   "source": [
    "# explicitly pass a 20% tip\n",
    "tip_calc_fun(50, tip_percentage = 0.2)"
   ]
  },
  {
   "cell_type": "code",
   "execution_count": 15,
   "metadata": {
    "collapsed": false
   },
   "outputs": [
    {
     "name": "stdout",
     "output_type": "stream",
     "text": [
      "10.0\n"
     ]
    }
   ],
   "source": [
    "# pass 20% tip by position\n",
    "tip_calc_fun(50, 0.2)"
   ]
  }
 ],
 "metadata": {
  "kernelspec": {
   "display_name": "Python 3",
   "language": "python",
   "name": "python3"
  },
  "language_info": {
   "codemirror_mode": {
    "name": "ipython",
    "version": 3
   },
   "file_extension": ".py",
   "mimetype": "text/x-python",
   "name": "python",
   "nbconvert_exporter": "python",
   "pygments_lexer": "ipython3",
   "version": "3.6.0"
  }
 },
 "nbformat": 4,
 "nbformat_minor": 2
}
